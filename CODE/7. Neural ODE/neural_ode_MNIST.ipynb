{
 "cells": [
  {
   "cell_type": "markdown",
   "id": "508083c7-fd32-4098-8cdd-bc9232784dd7",
   "metadata": {},
   "source": [
    "# 利用Neural ODE完成MNIST手写数字识别任务\n",
    "\n",
    "本文件是集智学园开发的“大数据驱动的人工智能”系列课程第七节课：《从深度神经网络到Neural ODE》的配套文档。在本文档中，我们将使用NeuralODE替代ResNet，作为MNIST图像识别任务的解决方案。首先将图像转换为向量表示，作为连续时间动力系统的初始状态。然后，我们可以使用Neural ODE来模拟图像像素值的连续演化，从而产生一条连续的轨迹。最后可以将轨迹的最终状态输入到一个全连接层中进行分类。\n",
    "\n",
    "1. 准备训练数据\n",
    "2. 定义 Neural ODE 网络结构\n",
    "3. 任务需要的其它函数\n",
    "4. 训练、测试并保存模型\n",
    "5. 加载模型，查看模型功能表现\n",
    "\n",
    "本文件是集智学园http://campus.swarma.org 出品的“大数据驱动的人工智能”系列课程第七节课的配套源代码"
   ]
  },
  {
   "cell_type": "code",
   "execution_count": 1,
   "id": "ddc1fc29-645c-46d8-bca7-b5d401f0f987",
   "metadata": {},
   "outputs": [],
   "source": [
    "# 导入所需要的包\n",
    "import os\n",
    "import time\n",
    "import numpy as np\n",
    "from PIL import Image\n",
    "import torch\n",
    "import torch.nn as nn\n",
    "import torch.optim as optim\n",
    "from torchvision import datasets, transforms\n",
    "import matplotlib.pyplot as plt\n",
    "\n",
    "%matplotlib inline\n",
    "\n",
    "isadjoint = True # 是否使用odeint_adjoint函数\n",
    "if isadjoint == True:\n",
    "    from torchdiffeq import odeint_adjoint as odeint\n",
    "else:\n",
    "    from torchdiffeq import odeint\n",
    "    \n",
    "use_cuda = torch.cuda.is_available() # 是否可以使用GPU进行计算\n",
    "device = torch.device('cuda:0') if use_cuda else torch.device('cpu') # 如果可以使用GPU，则使用GPU；否则使用CPU"
   ]
  },
  {
   "cell_type": "markdown",
   "id": "6e3f4881",
   "metadata": {},
   "source": [
    "## 一、准备训练数据"
   ]
  },
  {
   "cell_type": "markdown",
   "id": "d786e6b0-0a57-4d79-a137-ff51c5ad2a29",
   "metadata": {},
   "source": [
    "这段代码是利用PyTorch中的DataLoader加载MNIST数据集，并对数据进行了预处理。其中，train_loader是训练数据加载器，train_eval_loader和test_loader是测试数据加载器，它们分别对应训练集和测试集。\n",
    "transforms参数定义了对数据进行的转换，包括将数据转换为张量和进行标准化。\n",
    "batch_size参数定义了每个批次包含的数据量，shuffle参数表示每个epoch是否打乱数据顺序，num_workers参数表示用于数据加载的子进程数量，drop_last参数表示是否丢弃最后一个不完整的批次。\n",
    "\n",
    "本文件是集智学园http://campus.swarma.org 出品的“大数据驱动的人工智能”系列课程第七节课的配套源代码。"
   ]
  },
  {
   "cell_type": "code",
   "execution_count": 2,
   "id": "7daeef5a-5735-45d3-b800-1e8314324cd1",
   "metadata": {},
   "outputs": [],
   "source": [
    "best_acc = 0 # 初始准确率\n",
    "lr = 0.1 # 学习率\n",
    "test_batch_size = 1000 # 测试集的 batch_size 大小\n",
    "batch_size = 128 # 训练集的 batch_size 大小\n",
    "nepochs = 5 # 定义训练迭代的次数"
   ]
  },
  {
   "cell_type": "code",
   "execution_count": 3,
   "id": "cf6d5329-ee9c-4373-96b4-7864d5a95016",
   "metadata": {},
   "outputs": [],
   "source": [
    "train_loader = torch.utils.data.DataLoader(\n",
    "    datasets.MNIST('data',train=True,download=True, # 下载并加载MNIST数据集，train=True表示使用训练集\n",
    "                  transform=transforms.Compose([ # 定义数据转换的方式\n",
    "                      transforms.ToTensor(), # 将数据转换为PyTorch张量\n",
    "                      transforms.Normalize((0.1307,),(0.3081,)) # 数据标准化\n",
    "                  ])),\n",
    "    batch_size = batch_size,shuffle=True, num_workers=2, drop_last=True) # 定义数据加载器的参数\n",
    "\n",
    "train_eval_loader = torch.utils.data.DataLoader(\n",
    "    datasets.MNIST('data',train=False,download=True, # train=False表示使用测试集\n",
    "                  transform=transforms.Compose([\n",
    "                      transforms.ToTensor(),\n",
    "                      transforms.Normalize((0.1307,),(0.3081,))\n",
    "                  ])),\n",
    "    batch_size = test_batch_size,shuffle=False, num_workers=2, drop_last=True)\n",
    "\n",
    "test_loader = torch.utils.data.DataLoader(\n",
    "    datasets.MNIST('data',train=False,download=True, # train=False表示使用测试集\n",
    "                  transform=transforms.Compose([\n",
    "                      transforms.ToTensor(),\n",
    "                      transforms.Normalize((0.1307,),(0.3081,))\n",
    "                  ])),\n",
    "    batch_size = test_batch_size,shuffle=False, num_workers=2, drop_last=True)\n",
    "\n",
    "batches_per_epoch = len(train_loader)//4 # 一个epoch包含的批次数"
   ]
  },
  {
   "cell_type": "markdown",
   "id": "eb96ce7c-a557-4954-8a61-509ab2add001",
   "metadata": {},
   "source": [
    "## 二、定义Neural ODE网络结构"
   ]
  },
  {
   "cell_type": "markdown",
   "id": "797cedf4-a686-4833-b578-50098d8fca6b",
   "metadata": {},
   "source": [
    "这段代码定义了三个继承自nn.Module的类：ConcatConv2d、ODEfunc和ODEBlock，分别用于定义一个拼接卷积层、ODE函数和ODE块。其中ConcatConv2d类的实例对象是一个卷积层，输入和输出通道数相同，可以提取特征。ODEfunc类的实例对象是一个ODE函数，包含多个拼接卷积层，并在其中加入了BatchNorm2d操作、ReLU激活函数等，用于归一化数据并激活输出结果。ODEBlock类的实例对象是一个ODE块，将ODE函数作为参数输入，在该块中进行ODE求解并返回结果。同时，该代码还定义了一个Flatten类，用于将输入数据展平。\n",
    "\n",
    "本文件是集智学园http://campus.swarma.org 出品的“大数据驱动的人工智能”系列课程第七节课的配套源代码。"
   ]
  },
  {
   "cell_type": "code",
   "execution_count": 4,
   "id": "de0cd401-5f8a-457c-bfbf-05d84a250198",
   "metadata": {},
   "outputs": [],
   "source": [
    "# 定义一个继承自nn.Module的类ConcatConv2d\n",
    "class ConcatConv2d(nn.Module): \n",
    "    # 初始化函数，用于初始化类的各个成员变量\n",
    "    def __init__(self, dim_in, dim_out, ksize=3, stride=1, padding=0, dilation=1, groups=1, bias=True, transpose=False): \n",
    "        super(ConcatConv2d, self).__init__() \n",
    "        # 调用nn.ConvTranspose2d或nn.Conv2d构造卷积层，根据transpose决定用哪个类\n",
    "        module = nn.ConvTranspose2d if transpose else nn.Conv2d \n",
    "        # 将构造出来的卷积层保存在_layer成员变量中\n",
    "        self._layer = module( \n",
    "            dim_in + 1, dim_out, kernel_size=ksize, stride=stride, padding=padding, dilation=dilation, groups=groups,\n",
    "            bias=bias\n",
    "        )\n",
    "        \n",
    "    # forward函数用于计算模型的前向传播结果\n",
    "    def forward(self, t, x): \n",
    "        # 将t和x在通道维上拼接起来，得到新的输入\n",
    "        tt = torch.ones_like(x[:, :1, :, :]) * t \n",
    "        ttx = torch.cat([tt, x], 1)\n",
    "        # 将拼接后的输入传入卷积层，得到输出结果\n",
    "        return self._layer(ttx)\n",
    "    \n",
    "# 定义一个继承自nn.Module的类ODEfunc\n",
    "class ODEfunc(nn.Module):\n",
    "    # 初始化函数，定义了网络结构\n",
    "    def __init__(self, dim):\n",
    "        super(ODEfunc, self).__init__()\n",
    "        self.norm1 =  nn.BatchNorm2d(dim) # BatchNorm2d操作，用于归一化输入数据\n",
    "        self.relu = nn.ReLU(inplace=True) # ReLU激活函数，inplace=True表示直接覆盖原数据，节省内存\n",
    "        self.conv1 = ConcatConv2d(dim, dim, 3, 1, 1) # 自定义的卷积层，输入通道数和输出通道数都为dim，卷积核大小为3，padding=1，用于提取特征\n",
    "        self.norm2 =  nn.BatchNorm2d(dim) # BatchNorm2d操作，用于归一化输入数据\n",
    "        self.conv2 = ConcatConv2d(dim, dim, 3, 1, 1)\n",
    "        self.norm3 =  nn.BatchNorm2d(dim)\n",
    "        self.nfe = 0 # nfe表示网络前向传播的次数\n",
    "    \n",
    "    # 前向传播方法，输入数据x在网络中前向传播得到输出结果\n",
    "    def forward(self, t, x):\n",
    "        self.nfe += 1 # 前向传播次数加1\n",
    "        out = self.norm1(x) # 数据归一化\n",
    "        out = self.relu(out) # 激活函数ReLU\n",
    "        out = self.conv1(t, out) # 卷积操作\n",
    "        out = self.norm2(out) \n",
    "        out = self.relu(out) \n",
    "        out = self.conv2(t, out) \n",
    "        out = self.norm3(out) # \n",
    "        return out # 返回输出结果\n",
    "\n",
    "# 定义一个继承自nn.Module的类ODEBlock\n",
    "class ODEBlock(nn.Module):\n",
    "    \n",
    "    # 初始化函数\n",
    "    def __init__(self, odefunc):\n",
    "        super(ODEBlock, self).__init__()\n",
    "        self.odefunc = odefunc # 指定ODE函数\n",
    "        self.integration_time = torch.tensor([0, 1]).float() # 积分时间，定义为0到1的浮点数\n",
    "\n",
    "    def forward(self, x):\n",
    "        self.integration_time = self.integration_time.type_as(x) # 将积分时间的数据类型转换为输入数据x的数据类型\n",
    "        out = odeint(self.odefunc, x, self.integration_time, rtol = 1e-3, atol = 1e-3) # 进行ODE求解，得到输出结果out\n",
    "        return out[1] # 只返回积分时间的最后一个时间点的输出结果\n",
    "    \n",
    "    # 获取ODE函数中的前向传播次数\n",
    "    def nfe(self):\n",
    "        return self.odefunc.nfe\n",
    "    \n",
    "    # 设置ODE函数中的前向传播次数\n",
    "    def nfe(self, value):\n",
    "        self.odefunc.nfe = value\n",
    "        \n",
    "class Flatten(nn.Module):\n",
    "    # 初始化函数\n",
    "    def __init__(self):\n",
    "        super(Flatten, self).__init__()\n",
    "    # 前向传播方法，输入数据x在网络中前向传播得到输出结果\n",
    "    def forward(self, x):\n",
    "        shape = torch.prod(torch.tensor(x.shape[1:])).item()\n",
    "        return x.view(-1, shape)"
   ]
  },
  {
   "cell_type": "markdown",
   "id": "f878c31a-b9f3-4ef8-9638-5e6ea3a7e9a5",
   "metadata": {},
   "source": [
    "这段代码定义了一个卷积神经网络模型，包含三个部分：下采样层、特征提取层和全连接层。特征提取层的实现可以根据标记变量is_odenet的值选择使用 OdeNet 或者 ResNet，下采样层和全连接层不受影响。模型最终将各层组合成一个神经网络模型，并将模型移动到指定设备上（如GPU）。\n",
    "\n",
    "本文件是集智学园http://campus.swarma.org 出品的“大数据驱动的人工智能”系列课程第七节课的配套源代码。"
   ]
  },
  {
   "cell_type": "code",
   "execution_count": 5,
   "id": "e9e5dcc3-6a7b-4bc0-a535-b02fd29e5388",
   "metadata": {},
   "outputs": [],
   "source": [
    "is_odenet = True # 标记特征提取层是否使用 OdeNet，True 表示使用 OdeNet，False表示使用 ResNet\n",
    "downsampling_layers = [ #下采样层\n",
    "            nn.Conv2d(1, 64, 3, 1), # 卷积层\n",
    "            nn.BatchNorm2d(64), # 批归一化层\n",
    "            nn.ReLU(inplace=True), # 激活函数\n",
    "            nn.Conv2d(64, 64, 4, 2, 1),\n",
    "            nn.BatchNorm2d(64),\n",
    "            nn.ReLU(inplace=True),\n",
    "            nn.Conv2d(64, 64, 4, 2, 1),\n",
    "        ]\n",
    "\n",
    "feature_layers = [ODEBlock(ODEfunc(64))] if is_odenet else [ResBlock(64, 64) for _ in range(6)] # 特征提取层\n",
    "\n",
    "fc_layers = [ nn.BatchNorm2d(64), nn.ReLU(inplace=True), nn.AdaptiveAvgPool2d((1, 1)), Flatten(), nn.Linear(64, 10)] # 全连接层\n",
    "\n",
    "model = nn.Sequential(*downsampling_layers, *feature_layers, *fc_layers).to(device) # 将各层组合成一个模型"
   ]
  },
  {
   "cell_type": "markdown",
   "id": "b8eec7d8-32fa-4536-a70a-387edbd1139a",
   "metadata": {},
   "source": [
    "## 三、任务需要的其它函数"
   ]
  },
  {
   "cell_type": "markdown",
   "id": "4174e45f-4af7-4e2c-923c-4acb3a77e438",
   "metadata": {},
   "source": [
    "这段代码包含两个函数：\n",
    "accuracy(model, dataset_loader)：用于计算给定数据集加载器上模型的准确率。它遍历数据集加载器中的所有数据样本，将数据样本输入模型进行预测，并将预测结果与真实标签进行比较，以计算正确分类的样本数。最终，该函数返回准确率。\n",
    "inf_generator(iterable)：用于将一个可迭代对象转换为一个无限循环的迭代器。它创建一个可迭代对象的迭代器，并使用无限循环来不断返回迭代器的下一个元素，直到迭代器的结尾。如果已经到达迭代器的结尾，该函数将重新创建一个可迭代对象的迭代器，从头开始迭代，以便可以继续无限循环。\n",
    "\n",
    "本文件是集智学园http://campus.swarma.org 出品的“大数据驱动的人工智能”系列课程第七节课的配套源代码。"
   ]
  },
  {
   "cell_type": "code",
   "execution_count": 8,
   "id": "9e452f82-e8d1-47c1-a9f0-8da16fce4e97",
   "metadata": {},
   "outputs": [],
   "source": [
    "# 计算模型在给定数据集加载器上的准确率\n",
    "def accuracy(model, dataset_loader):\n",
    "    total_correct = 0\n",
    "    for x, y in dataset_loader:\n",
    "        x = x.to(device)\n",
    "        # 将标签y编码为 one-hot 格式\n",
    "        y = np.array(np.array(y.numpy())[:, None] == np.arange(10)[None, :], dtype=int)\n",
    "        # 提取目标类别和预测类别\n",
    "        target_class = np.argmax(y, axis=1)\n",
    "        predicted_class = np.argmax(model(x).cpu().detach().numpy(), axis=1)\n",
    "        # 统计正确分类的样本数\n",
    "        total_correct += np.sum(predicted_class == target_class)\n",
    "        \n",
    "    # 计算准确率\n",
    "    return total_correct / len(dataset_loader.dataset)\n",
    "\n",
    "# 将一个可迭代对象，转换为一个无限循环的迭代器。\n",
    "def inf_generator(iterable):\n",
    "    iterator = iterable.__iter__() # 创建一个可迭代对象的迭代器\n",
    "    while True:\n",
    "        try:\n",
    "            yield iterator.__next__() # 返回迭代器的下一个元素\n",
    "        except StopIteration: # 如果已经到达迭代器的结尾\n",
    "            iterator = iterable.__iter__() # 重新创建一个可迭代对象的迭代器，从头开始迭代"
   ]
  },
  {
   "cell_type": "markdown",
   "id": "1e1671b8-783a-4617-896d-657a5dcc51ff",
   "metadata": {},
   "source": [
    "## 四、训练、测试并保存模型"
   ]
  },
  {
   "cell_type": "markdown",
   "id": "4ba5ccbd-cfd8-43b9-a795-46d7b6cd5c2f",
   "metadata": {},
   "source": [
    "这段代码是迭代训练神经网络的过程，在每个epoch中，训练更新模型参数。每个epoch训练完成后，计算训练集和测试集上的准确率，并记录最好的模型。\n",
    "打印训练集准确率和测试集准确率。画出loss曲线。\n",
    "\n",
    "本文件是集智学园http://campus.swarma.org 出品的“大数据驱动的人工智能”系列课程第七节课的配套源代码。"
   ]
  },
  {
   "cell_type": "code",
   "execution_count": 7,
   "id": "0525f8d1-a8bd-4f82-a7d3-302b4de74664",
   "metadata": {},
   "outputs": [
    {
     "name": "stdout",
     "output_type": "stream",
     "text": [
      "Epoch 0000 | Loss 2.318 | Time 0.109min  \n",
      "Train Acc 0.1180 | Test Acc 0.1180\n",
      " \n",
      "Epoch 0001 | Loss 0.170 | Time 1.034min  \n",
      "Train Acc 0.9631 | Test Acc 0.9631\n",
      " \n",
      "Epoch 0002 | Loss 0.062 | Time 1.034min  \n",
      "Train Acc 0.9790 | Test Acc 0.9790\n",
      " \n",
      "Epoch 0003 | Loss 0.032 | Time 1.031min  \n",
      "Train Acc 0.9832 | Test Acc 0.9832\n",
      " \n",
      "Epoch 0004 | Loss 0.030 | Time 1.032min  \n",
      "Train Acc 0.9870 | Test Acc 0.9870\n",
      " \n",
      "Epoch 0005 | Loss 0.045 | Time 1.030min  \n",
      "Train Acc 0.9856 | Test Acc 0.9856\n",
      " \n",
      "Epoch 0006 | Loss 0.055 | Time 1.180min  \n",
      "Train Acc 0.9903 | Test Acc 0.9903\n",
      " \n",
      "Epoch 0007 | Loss 0.003 | Time 1.219min  \n",
      "Train Acc 0.9891 | Test Acc 0.9891\n",
      " \n",
      "Epoch 0008 | Loss 0.018 | Time 1.226min  \n",
      "Train Acc 0.9897 | Test Acc 0.9897\n",
      " \n",
      "Epoch 0009 | Loss 0.003 | Time 1.219min  \n",
      "Train Acc 0.9896 | Test Acc 0.9896\n",
      " \n",
      "Epoch 0010 | Loss 0.005 | Time 1.216min  \n",
      "Train Acc 0.9909 | Test Acc 0.9909\n",
      " \n",
      "Epoch 0011 | Loss 0.029 | Time 1.212min  \n",
      "Train Acc 0.9897 | Test Acc 0.9897\n",
      " \n",
      "Epoch 0012 | Loss 0.027 | Time 1.217min  \n",
      "Train Acc 0.9887 | Test Acc 0.9887\n",
      " \n",
      "Epoch 0013 | Loss 0.021 | Time 1.222min  \n",
      "Train Acc 0.9900 | Test Acc 0.9900\n",
      " \n",
      "Epoch 0014 | Loss 0.008 | Time 1.219min  \n",
      "Train Acc 0.9915 | Test Acc 0.9915\n",
      " \n",
      "Epoch 0015 | Loss 0.105 | Time 1.218min  \n",
      "Train Acc 0.9910 | Test Acc 0.9910\n",
      " \n",
      "Epoch 0016 | Loss 0.004 | Time 1.226min  \n",
      "Train Acc 0.9936 | Test Acc 0.9936\n",
      " \n",
      "Epoch 0017 | Loss 0.040 | Time 1.218min  \n",
      "Train Acc 0.9913 | Test Acc 0.9913\n",
      " \n",
      "Epoch 0018 | Loss 0.012 | Time 1.219min  \n",
      "Train Acc 0.9909 | Test Acc 0.9909\n",
      " \n",
      "Epoch 0019 | Loss 0.012 | Time 1.223min  \n",
      "Train Acc 0.9924 | Test Acc 0.9924\n",
      " \n"
     ]
    }
   ],
   "source": [
    "end0 = time.time() # 记录开始时间\n",
    "Loss_list = [] # 用于记录每次迭代的loss\n",
    "optimizer = torch.optim.SGD(model.parameters(), lr = lr, momentum=0.9) # 定义随机梯度下降（SGD）优化器，用于更新模型参数，设置学习率和动量\n",
    "criterion = nn.CrossEntropyLoss().to(device) # 定义交叉熵损失函数，用于计算模型的误差，将其移动到设备（CPU或GPU）上\n",
    "\n",
    "for itr in range(nepochs * batches_per_epoch * 4):\n",
    "    \n",
    "    optimizer.zero_grad() # 梯度清零\n",
    "    \n",
    "    x, y = inf_generator(train_loader).__next__() # 获取训练数据及标签\n",
    "    \n",
    "    x = x.to(device) # 将训练数据移到GPU上\n",
    "    y = y.to(device) # 将标签移到GPU上\n",
    "    logits = model(x) # 计算预测值\n",
    "    loss = criterion(logits, y) # 计算loss\n",
    "\n",
    "    if is_odenet: # 如果是ODENet网络结构，记录调用前向计算函数的次数\n",
    "        nfe_forward = feature_layers[0].nfe\n",
    "        feature_layers[0].nfe = 0 # 重置前向计算函数的调用次数\n",
    "\n",
    "    loss.backward() # 反向传播计算梯度\n",
    "    optimizer.step() # 更新网络参数\n",
    "\n",
    "    if is_odenet: # 如果是ODENet网络结构，记录后向计算函数的调用次数\n",
    "        nfe_backward = feature_layers[0].nfe\n",
    "        feature_layers[0].nfe = 0 # 重置后向计算函数的调用次数\n",
    "\n",
    "    # 每训练完一个 epochs，就计算一次模型在训练集和测试集上的准确率，选取最好的模型保存\n",
    "    if itr % batches_per_epoch == 0:\n",
    "        with torch.no_grad():\n",
    "            Loss_list.append(loss.item()) # 记录loss\n",
    "            train_acc = accuracy(model, train_eval_loader) # 计算训练集上的准确率\n",
    "            val_acc = accuracy(model, test_loader) # 计算测试集上的准确率\n",
    "            if val_acc > best_acc: # 如果测试集上的准确率比之前记录的最好结果还要好\n",
    "                torch.save(model.state_dict(), 'model.pth') # 就保存当前模型\n",
    "                best_acc = val_acc # 更新最好的准确率\n",
    "            end1 = time.time() # 记录结束时间\n",
    "            print(\"Epoch {:04d} | Loss {:.3f} | Time {:.3f}min  \".format(itr // batches_per_epoch, loss.item(),(end1 - end0)/60.0))\n",
    "            \n",
    "            #print(\"Epoch {:04d} | Loss {:.3f} | Time {:.3f}min | nfe_forward {:02d} | nfe_backward {:02d} \".format(itr // batches_per_epoch, loss.item(),(end1 - end0)/60.0, nfe_forward, nfe_backward))\n",
    "            print(\"Train Acc {:.4f} | Test Acc {:.4f}\".format(train_acc, val_acc)) # 打印训练集准确率和测试集准确率\n",
    "            print(\" \")\n",
    "            \n",
    "            end0 = end1 # 更新开始时间"
   ]
  },
  {
   "cell_type": "code",
   "execution_count": 9,
   "id": "5e6a45d0-72f7-441a-bd1d-ca7319d5601d",
   "metadata": {},
   "outputs": [
    {
     "data": {
      "image/png": "[encoded data removed]",
      "text/plain": [
       "<Figure size 432x288 with 1 Axes>"
      ]
     },
     "metadata": {
      "needs_background": "light"
     },
     "output_type": "display_data"
    }
   ],
   "source": [
    "# 绘制Loss值随训练次数的变化曲线\n",
    "plt.plot(Loss_list)\n",
    "plt.ylabel('Loss')\n",
    "plt.xlabel('Epoch')\n",
    "plt.grid(ls = '--')\n",
    "plt.show()"
   ]
  },
  {
   "cell_type": "markdown",
   "id": "ad16a087-f3ea-40e6-8c6b-3be46cf6961f",
   "metadata": {},
   "source": [
    "## 五、加载模型，查看模型功能表现"
   ]
  },
  {
   "cell_type": "markdown",
   "id": "820fcc68-c701-49ae-994b-c819edd36544",
   "metadata": {},
   "source": [
    "定义相同结构的NeuralODE模型，加载刚保存的预训练模型参数。对数据加载器 performance_loader 中的每个 batch，使用 plt.imshow 显示其中的 5 个图像；使用 model 对 performance_loader 中的图像进行识别，并输出识别结果。\n",
    "\n",
    "本文件是集智学园http://campus.swarma.org 出品的“大数据驱动的人工智能”系列课程第七节课的配套源代码。"
   ]
  },
  {
   "cell_type": "code",
   "execution_count": 10,
   "id": "274d4860-742d-48d8-be4c-c641c8c9ab97",
   "metadata": {},
   "outputs": [
    {
     "data": {
      "text/plain": [
       "<All keys matched successfully>"
      ]
     },
     "execution_count": 10,
     "metadata": {},
     "output_type": "execute_result"
    }
   ],
   "source": [
    "is_odenet = True # 标记特征提取层是否使用 OdeNet，True 表示使用 OdeNet，False表示使用 ResNet\n",
    "downsampling_layers = [ #下采样层\n",
    "            nn.Conv2d(1, 64, 3, 1), # 卷积层\n",
    "            nn.BatchNorm2d(64), # 批归一化层\n",
    "            nn.ReLU(inplace=True), # 激活函数\n",
    "            nn.Conv2d(64, 64, 4, 2, 1),\n",
    "            nn.BatchNorm2d(64),\n",
    "            nn.ReLU(inplace=True),\n",
    "            nn.Conv2d(64, 64, 4, 2, 1),\n",
    "        ]\n",
    "\n",
    "feature_layers = [ODEBlock(ODEfunc(64))] if is_odenet else [ResBlock(64, 64) for _ in range(6)] # 特征提取层\n",
    "\n",
    "fc_layers = [ nn.BatchNorm2d(64), nn.ReLU(inplace=True), nn.AdaptiveAvgPool2d((1, 1)), Flatten(), nn.Linear(64, 10)] # 全连接层\n",
    "\n",
    "model = nn.Sequential(*downsampling_layers, *feature_layers, *fc_layers).to(device) # 将各层组合成一个模型\n",
    "model.cuda().load_state_dict(torch.load('model.pth')) #加载模型参数"
   ]
  },
  {
   "cell_type": "code",
   "execution_count": 13,
   "id": "b938dcb8-0503-451e-8727-094097f107d3",
   "metadata": {},
   "outputs": [
    {
     "name": "stdout",
     "output_type": "stream",
     "text": [
      "输入模型的数字：\n"
     ]
    },
    {
     "data": {
      "image/png": "[encoded data removed]",
      "text/plain": [
       "<Figure size 432x288 with 1 Axes>"
      ]
     },
     "metadata": {
      "needs_background": "light"
     },
     "output_type": "display_data"
    },
    {
     "data": {
      "image/png": "[encoded data removed]",
      "text/plain": [
       "<Figure size 432x288 with 1 Axes>"
      ]
     },
     "metadata": {
      "needs_background": "light"
     },
     "output_type": "display_data"
    },
    {
     "data": {
      "image/png": "[encoded data removed]",
      "text/plain": [
       "<Figure size 432x288 with 1 Axes>"
      ]
     },
     "metadata": {
      "needs_background": "light"
     },
     "output_type": "display_data"
    },
    {
     "data": {
      "image/png": "[encoded data removed]",
      "text/plain": [
       "<Figure size 432x288 with 1 Axes>"
      ]
     },
     "metadata": {
      "needs_background": "light"
     },
     "output_type": "display_data"
    },
    {
     "data": {
      "image/png": "[encoded data removed]",
      "text/plain": [
       "<Figure size 432x288 with 1 Axes>"
      ]
     },
     "metadata": {
      "needs_background": "light"
     },
     "output_type": "display_data"
    },
    {
     "name": "stdout",
     "output_type": "stream",
     "text": [
      "模型识别的结果：\n",
      "[1 3 5 9 9]\n"
     ]
    }
   ],
   "source": [
    "# 用于显示模型性能的数据加载器 performance_loader\n",
    "performance_loader = torch.utils.data.DataLoader(\n",
    "    datasets.MNIST('data',train=False,download=True, \n",
    "                  transform=transforms.Compose([\n",
    "                      transforms.ToTensor()\n",
    "                  ])),\n",
    "    batch_size = 5,shuffle=True, num_workers=2, drop_last=True)\n",
    "\n",
    "print(\"输入模型的数字：\")\n",
    "for x,y in performance_loader:\n",
    "    for i in range(5):\n",
    "        # 显示当前 batch 中的第 i 个图像\n",
    "        plt.imshow(x[i,:,:,:].unsqueeze(1).squeeze(), cmap='gray')\n",
    "        plt.show()\n",
    "    break # 只显示一个 batch 中的图像\n",
    "\n",
    "print(\"模型识别的结果：\")\n",
    "print(np.argmax(model(x.cuda()).cpu().detach().numpy(), axis=1)) # 输出模型对一个 batch 中图像的识别结果"
   ]
  }
 ],
 "metadata": {
  "kernelspec": {
   "display_name": "Python 3 (ipykernel)",
   "language": "python",
   "name": "python3"
  },
  "language_info": {
   "codemirror_mode": {
    "name": "ipython",
    "version": 3
   },
   "file_extension": ".py",
   "mimetype": "text/x-python",
   "name": "python",
   "nbconvert_exporter": "python",
   "pygments_lexer": "ipython3",
   "version": "3.8.10"
  }
 },
 "nbformat": 4,
 "nbformat_minor": 5
}
